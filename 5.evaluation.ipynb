{
 "cells": [
  {
   "cell_type": "markdown",
   "id": "7926bb67",
   "metadata": {},
   "source": [
    "# 加权AUC评估"
   ]
  },
  {
   "cell_type": "markdown",
   "id": "9d0b9069",
   "metadata": {},
   "source": [
    "## 导入工具库"
   ]
  },
  {
   "cell_type": "code",
   "execution_count": 1,
   "id": "b3bddeaf",
   "metadata": {},
   "outputs": [],
   "source": [
    "import time\n",
    "import numpy as np\n",
    "from collections import defaultdict\n",
    "from sklearn.metrics import roc_auc_score"
   ]
  },
  {
   "cell_type": "code",
   "execution_count": 2,
   "id": "2d5bad5f",
   "metadata": {},
   "outputs": [],
   "source": [
    "def uAUC(labels, preds, user_id_list):\n",
    "    \"\"\"Calculate user AUC\"\"\"\n",
    "    user_pred = defaultdict(lambda: [])\n",
    "    user_truth = defaultdict(lambda: [])\n",
    "    for idx, truth in enumerate(labels):\n",
    "        user_id = user_id_list[idx]\n",
    "        pred = preds[idx]\n",
    "        truth = labels[idx]\n",
    "        user_pred[user_id].append(pred)\n",
    "        user_truth[user_id].append(truth)\n",
    "\n",
    "    user_flag = defaultdict(lambda: False)\n",
    "    for user_id in set(user_id_list):\n",
    "        truths = user_truth[user_id]\n",
    "        flag = False\n",
    "        # 若全是正样本或全是负样本，则flag为False\n",
    "        for i in range(len(truths) - 1):\n",
    "            if truths[i] != truths[i + 1]:\n",
    "                flag = True\n",
    "                break\n",
    "        user_flag[user_id] = flag\n",
    "\n",
    "    total_auc = 0.0\n",
    "    size = 0.0\n",
    "    for user_id in user_flag:\n",
    "        if user_flag[user_id]:\n",
    "            auc = roc_auc_score(np.asarray(user_truth[user_id]), np.asarray(user_pred[user_id]))\n",
    "            total_auc += auc \n",
    "            size += 1.0\n",
    "    user_auc = float(total_auc)/size\n",
    "    return user_auc"
   ]
  },
  {
   "cell_type": "code",
   "execution_count": 3,
   "id": "b061bf71",
   "metadata": {},
   "outputs": [],
   "source": [
    "def compute_weighted_score(score_dict, weight_dict):\n",
    "    '''基于多个行为的uAUC值，计算加权uAUC\n",
    "    Input:\n",
    "        scores_dict: 多个行为的uAUC值映射字典, dict\n",
    "        weights_dict: 多个行为的权重映射字典, dict\n",
    "    Output:\n",
    "        score: 加权uAUC值, float\n",
    "    '''\n",
    "    score = 0.0\n",
    "    weight_sum = 0.0\n",
    "    for action in score_dict:\n",
    "        weight = float(weight_dict[action])\n",
    "        score += weight*score_dict[action]\n",
    "        weight_sum += weight\n",
    "    score /= float(weight_sum)\n",
    "    score = round(score, 6)\n",
    "    return score"
   ]
  },
  {
   "cell_type": "code",
   "execution_count": 4,
   "id": "87692a86",
   "metadata": {},
   "outputs": [],
   "source": [
    "def evaluate_deepctr(val_labels,val_pred_ans,userid_list):\n",
    "    eval_dict = {}\n",
    "    target = [\"read_comment\", \"like\", \"click_avatar\", \"forward\"]\n",
    "    for i, action in enumerate(target):\n",
    "        eval_dict[action] = uAUC(val_labels[i], val_pred_ans[i], userid_list)\n",
    "    print(eval_dict)\n",
    "    weight_dict = {\"read_comment\": 4, \"like\": 3, \"click_avatar\": 2, \"favorite\": 1, \"forward\": 1,\n",
    "                   \"comment\": 1, \"follow\": 1}\n",
    "    weight_auc = compute_weighted_score(eval_dict, weight_dict)\n",
    "    print(\"Weighted uAUC: \", weight_auc)\n",
    "    return weight_auc"
   ]
  }
 ],
 "metadata": {
  "kernelspec": {
   "display_name": "Python 3 (ipykernel)",
   "language": "python",
   "name": "python3"
  },
  "language_info": {
   "codemirror_mode": {
    "name": "ipython",
    "version": 3
   },
   "file_extension": ".py",
   "mimetype": "text/x-python",
   "name": "python",
   "nbconvert_exporter": "python",
   "pygments_lexer": "ipython3",
   "version": "3.9.5"
  },
  "toc": {
   "base_numbering": 1,
   "nav_menu": {},
   "number_sections": true,
   "sideBar": true,
   "skip_h1_title": false,
   "title_cell": "Table of Contents",
   "title_sidebar": "Contents",
   "toc_cell": false,
   "toc_position": {},
   "toc_section_display": true,
   "toc_window_display": false
  }
 },
 "nbformat": 4,
 "nbformat_minor": 5
}
